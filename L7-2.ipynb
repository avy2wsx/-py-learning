{
 "cells": [
  {
   "cell_type": "code",
   "execution_count": 1,
   "metadata": {},
   "outputs": [
    {
     "data": {
      "text/plain": [
       "80"
      ]
     },
     "execution_count": 1,
     "metadata": {},
     "output_type": "execute_result"
    }
   ],
   "source": [
    "import random\n",
    "random.randint(50, 100)\n"
   ]
  },
  {
   "cell_type": "code",
   "execution_count": 6,
   "metadata": {},
   "outputs": [
    {
     "data": {
      "text/plain": [
       "[86, 89, 73, 91, 93]"
      ]
     },
     "execution_count": 6,
     "metadata": {},
     "output_type": "execute_result"
    }
   ],
   "source": [
    "stu1 = list()\n",
    "for _ in range(5):\n",
    "    stu1.append(random.randint(50, 100)) \n",
    "stu1   \n"
   ]
  },
  {
   "cell_type": "code",
   "execution_count": 10,
   "metadata": {},
   "outputs": [
    {
     "data": {
      "text/plain": [
       "[[52, 51, 81, 57, 52],\n",
       " [55, 73, 68, 78, 58],\n",
       " [71, 56, 67, 50, 81],\n",
       " [84, 84, 88, 90, 83],\n",
       " [70, 93, 79, 67, 59],\n",
       " [71, 82, 56, 52, 62],\n",
       " [85, 77, 85, 90, 77],\n",
       " [63, 64, 74, 83, 85],\n",
       " [96, 65, 59, 83, 98],\n",
       " [82, 62, 65, 85, 54],\n",
       " [63, 95, 77, 86, 89],\n",
       " [95, 57, 84, 82, 95],\n",
       " [100, 64, 80, 60, 96],\n",
       " [72, 93, 50, 74, 59],\n",
       " [85, 62, 51, 50, 76],\n",
       " [71, 64, 74, 91, 70],\n",
       " [85, 52, 96, 54, 58],\n",
       " [98, 72, 88, 94, 82],\n",
       " [63, 73, 95, 71, 58],\n",
       " [52, 67, 96, 58, 56],\n",
       " [92, 59, 76, 76, 99],\n",
       " [50, 60, 95, 66, 84],\n",
       " [61, 88, 50, 52, 75],\n",
       " [62, 75, 75, 92, 90],\n",
       " [96, 62, 63, 52, 94],\n",
       " [64, 93, 52, 60, 50],\n",
       " [57, 86, 94, 75, 99],\n",
       " [76, 61, 65, 84, 95],\n",
       " [90, 87, 62, 82, 90],\n",
       " [57, 65, 90, 86, 58],\n",
       " [58, 66, 81, 62, 77],\n",
       " [56, 63, 57, 60, 72],\n",
       " [89, 63, 90, 97, 81],\n",
       " [96, 51, 74, 94, 61],\n",
       " [86, 91, 66, 96, 54],\n",
       " [77, 75, 94, 85, 56],\n",
       " [86, 74, 50, 66, 59],\n",
       " [83, 89, 68, 100, 69],\n",
       " [88, 65, 70, 91, 72],\n",
       " [52, 61, 58, 94, 97],\n",
       " [100, 74, 81, 50, 86],\n",
       " [96, 58, 55, 72, 54],\n",
       " [66, 64, 75, 64, 52],\n",
       " [99, 92, 62, 52, 100],\n",
       " [76, 71, 97, 53, 56],\n",
       " [54, 75, 91, 53, 75],\n",
       " [77, 53, 59, 61, 83],\n",
       " [100, 98, 95, 60, 78],\n",
       " [66, 60, 69, 85, 58],\n",
       " [93, 98, 56, 59, 99]]"
      ]
     },
     "execution_count": 10,
     "metadata": {},
     "output_type": "execute_result"
    }
   ],
   "source": [
    "students = []\n",
    "for _ in range(50):\n",
    "    stu = list()\n",
    "    for _ in range(5):\n",
    "        stu.append(random.randint(50, 100)) \n",
    "    students.append(stu)\n",
    "students    \n"
   ]
  }
 ],
 "metadata": {
  "kernelspec": {
   "display_name": "Python 3",
   "language": "python",
   "name": "python3"
  },
  "language_info": {
   "codemirror_mode": {
    "name": "ipython",
    "version": 3
   },
   "file_extension": ".py",
   "mimetype": "text/x-python",
   "name": "python",
   "nbconvert_exporter": "python",
   "pygments_lexer": "ipython3",
   "version": "3.10.12"
  },
  "orig_nbformat": 4
 },
 "nbformat": 4,
 "nbformat_minor": 2
}
