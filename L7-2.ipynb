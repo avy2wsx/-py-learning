{
 "cells": [
  {
   "cell_type": "code",
   "execution_count": 1,
   "metadata": {},
   "outputs": [
    {
     "data": {
      "text/plain": [
       "80"
      ]
     },
     "execution_count": 1,
     "metadata": {},
     "output_type": "execute_result"
    }
   ],
   "source": [
    "import random\n",
    "random.randint(50, 100)\n"
   ]
  },
  {
   "cell_type": "code",
   "execution_count": null,
   "metadata": {},
   "outputs": [],
   "source": []
  },
  {
   "cell_type": "code",
   "execution_count": 6,
   "metadata": {},
   "outputs": [
    {
     "data": {
      "text/plain": [
       "[86, 89, 73, 91, 93]"
      ]
     },
     "execution_count": 6,
     "metadata": {},
     "output_type": "execute_result"
    }
   ],
   "source": [
    "stu1 = list()\n",
    "for _ in range(5):\n",
    "    stu1.append(random.randint(50, 100)) \n",
    "stu1   \n"
   ]
  },
  {
   "cell_type": "code",
   "execution_count": 25,
   "metadata": {},
   "outputs": [
    {
     "data": {
      "text/plain": [
       "[[75, 78, 83, 85, 95],\n",
       " [96, 67, 81, 80, 89],\n",
       " [97, 93, 60, 67, 90],\n",
       " [98, 77, 79, 71, 65],\n",
       " [90, 88, 90, 61, 81],\n",
       " [95, 91, 89, 81, 51],\n",
       " [79, 66, 70, 84, 75],\n",
       " [82, 62, 95, 59, 83],\n",
       " [67, 68, 84, 78, 97],\n",
       " [62, 63, 91, 56, 97],\n",
       " [59, 86, 65, 96, 77],\n",
       " [97, 97, 64, 87, 51],\n",
       " [77, 53, 84, 99, 67],\n",
       " [99, 68, 73, 90, 57],\n",
       " [50, 88, 80, 60, 73],\n",
       " [87, 81, 75, 50, 95],\n",
       " [99, 71, 83, 88, 59],\n",
       " [80, 58, 98, 75, 75],\n",
       " [80, 77, 54, 74, 75],\n",
       " [71, 87, 99, 89, 86],\n",
       " [87, 71, 83, 95, 76],\n",
       " [90, 88, 93, 75, 96],\n",
       " [52, 65, 53, 87, 67],\n",
       " [76, 72, 89, 64, 99],\n",
       " [81, 86, 80, 93, 83],\n",
       " [86, 60, 58, 59, 63],\n",
       " [61, 89, 51, 99, 91],\n",
       " [52, 70, 64, 52, 79],\n",
       " [94, 67, 85, 85, 55],\n",
       " [92, 91, 76, 76, 97],\n",
       " [82, 55, 85, 97, 89],\n",
       " [60, 71, 94, 97, 75],\n",
       " [65, 53, 100, 85, 92],\n",
       " [71, 91, 80, 65, 59],\n",
       " [62, 72, 78, 98, 52],\n",
       " [93, 55, 55, 83, 88],\n",
       " [61, 68, 69, 91, 52],\n",
       " [80, 54, 71, 71, 96],\n",
       " [96, 88, 54, 75, 57],\n",
       " [98, 72, 100, 100, 89],\n",
       " [73, 79, 55, 72, 85],\n",
       " [56, 98, 85, 54, 51],\n",
       " [65, 65, 84, 95, 65],\n",
       " [51, 64, 83, 53, 58],\n",
       " [88, 50, 96, 64, 61],\n",
       " [100, 72, 67, 95, 53],\n",
       " [75, 72, 78, 93, 57],\n",
       " [81, 92, 84, 63, 73],\n",
       " [65, 50, 78, 74, 73],\n",
       " [88, 51, 57, 74, 51]]"
      ]
     },
     "execution_count": 25,
     "metadata": {},
     "output_type": "execute_result"
    }
   ],
   "source": [
    "import random\n",
    "random.randint(50, 100)\n",
    "students  = []\n",
    "for _  in range(50):\n",
    "    stu = list()\n",
    "    for _ in range(5):\n",
    "        stu.append(random.randint(50,  100))\n",
    "    students.append(stu)\n",
    "students"
   ]
  },
  {
   "cell_type": "code",
   "execution_count": 5,
   "metadata": {},
   "outputs": [],
   "source": [
    "text =\"中文輸出\"\n",
    "file = open(\"H1.txt\", mode='w',)\n",
    "print(text,file=file)\n"
   ]
  },
  {
   "cell_type": "code",
   "execution_count": 16,
   "metadata": {},
   "outputs": [],
   "source": [
    "file = open (\"H2.txt\", mode=\"w\")\n",
    "file.write(\"first line\\n\")\n",
    "file.writelines(\"\"\"second\n",
    "third\"\"\")\n",
    "\n",
    "file.close()"
   ]
  },
  {
   "cell_type": "code",
   "execution_count": 17,
   "metadata": {},
   "outputs": [
    {
     "name": "stdout",
     "output_type": "stream",
     "text": [
      "first line\n",
      "second\n",
      "third\n"
     ]
    }
   ],
   "source": [
    "file = open(\"H2.txt\", mode=\"r\")\n",
    "all_text = file.read()\n",
    "print(all_text)"
   ]
  },
  {
   "cell_type": "code",
   "execution_count": 33,
   "metadata": {},
   "outputs": [],
   "source": [
    "\n",
    "csv_write_file=open(\"student.csv\",mode=\"w\",newline='')\n",
    "csv_writer=csv.writer(csv_write_file)\n",
    "csv_writer.writerow(['國','英','數','地','歷'])\n",
    "csv_writer.writerows(students)\n",
    "csv_write_file.close()\n"
   ]
  }
 ],
 "metadata": {
  "kernelspec": {
   "display_name": "Python 3",
   "language": "python",
   "name": "python3"
  },
  "language_info": {
   "codemirror_mode": {
    "name": "ipython",
    "version": 3
   },
   "file_extension": ".py",
   "mimetype": "text/x-python",
   "name": "python",
   "nbconvert_exporter": "python",
   "pygments_lexer": "ipython3",
   "version": "3.10.12"
  },
  "orig_nbformat": 4
 },
 "nbformat": 4,
 "nbformat_minor": 2
}
